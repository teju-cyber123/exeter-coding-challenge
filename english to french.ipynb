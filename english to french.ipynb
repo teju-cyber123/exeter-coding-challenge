{
 "cells": [
  {
   "cell_type": "code",
   "execution_count": 1,
   "id": "9d206770",
   "metadata": {},
   "outputs": [],
   "source": [
    "import pandas as pd\n",
    "import numpy as np"
   ]
  },
  {
   "cell_type": "markdown",
   "id": "30df5c55",
   "metadata": {},
   "source": []
  },
  {
   "cell_type": "code",
   "execution_count": 2,
   "id": "81b0e66e",
   "metadata": {},
   "outputs": [],
   "source": [
    "f1=open(\"find_words.txt\")\n",
    "words=f1.read().split()\n",
    "f1.close()"
   ]
  },
  {
   "cell_type": "code",
   "execution_count": 3,
   "id": "f942d447",
   "metadata": {},
   "outputs": [],
   "source": [
    "#words"
   ]
  },
  {
   "cell_type": "code",
   "execution_count": 4,
   "id": "00a25a8f",
   "metadata": {},
   "outputs": [],
   "source": [
    "dict_words = pd.read_csv('french_dictionary.csv', header=None, index_col=0, squeeze=True).to_dict()"
   ]
  },
  {
   "cell_type": "markdown",
   "id": "1f9a1b1e",
   "metadata": {},
   "source": []
  },
  {
   "cell_type": "code",
   "execution_count": 5,
   "id": "e12994f6",
   "metadata": {},
   "outputs": [],
   "source": [
    "f2=open(\"t8.shakespeare.txt\")\n",
    "file=f2.read()\n",
    "f2.close()"
   ]
  },
  {
   "cell_type": "code",
   "execution_count": null,
   "id": "f98d4de6",
   "metadata": {},
   "outputs": [],
   "source": []
  },
  {
   "cell_type": "code",
   "execution_count": 6,
   "id": "db5fb79b",
   "metadata": {},
   "outputs": [],
   "source": [
    "#text_book"
   ]
  },
  {
   "cell_type": "code",
   "execution_count": null,
   "id": "b750f2e8",
   "metadata": {},
   "outputs": [],
   "source": []
  },
  {
   "cell_type": "code",
   "execution_count": 7,
   "id": "1421b78c",
   "metadata": {},
   "outputs": [],
   "source": [
    "import time\n",
    "import tracemalloc\n",
    "\n",
    "\n",
    "tracemalloc.start()\n",
    "start = time.time()\n",
    "frequency_dict=dict()\n",
    "for x in words:\n",
    "    frequency_dict[x]=file.count(x)\n",
    "    file=file.replace(x,dict_words[x])\n",
    "    file=file.replace(x.upper(),dict_words[x])\n",
    "    file=file.replace(x.title(),dict_words[x])              \n",
    "\n",
    "                    \n",
    "end = time.time() \n",
    "current,peak=tracemalloc.get_traced_memory()                 \n",
    "memory=peak-current\n",
    "memory=memory*0.000001\n",
    "tracemalloc.stop()\n",
    "              \n",
    "\n",
    "\n",
    "                    # here words are replaced with handling casing\n",
    "\n",
    "                    \n",
    "\n",
    "                \n",
    "    \n",
    "\n",
    "\n",
    "\n"
   ]
  },
  {
   "cell_type": "code",
   "execution_count": 8,
   "id": "323e0fc6",
   "metadata": {},
   "outputs": [
    {
     "name": "stdout",
     "output_type": "stream",
     "text": [
      "memory used 16.32493MB\n",
      "The time of execution of above program is : 30.820393800735474\n"
     ]
    }
   ],
   "source": [
    "f=open(\"performance.txt\",\"w\")\n",
    "s=\"memory used \"+str(memory)+ \"MB\"\n",
    "print(s)\n",
    "f.write(s)\n",
    "s= \"\\nThe time of execution of above program is :\"+str(end-start)                                                     \n",
    "f.write(s)\n",
    "f.close()\n",
    "        \n",
    "print(\"The time of execution of above program is :\", end-start)\n",
    "\n"
   ]
  },
  {
   "cell_type": "code",
   "execution_count": 9,
   "id": "8e2f77d9",
   "metadata": {},
   "outputs": [],
   "source": [
    "\n",
    "#dict_words"
   ]
  },
  {
   "cell_type": "markdown",
   "id": "7286b189",
   "metadata": {},
   "source": []
  },
  {
   "cell_type": "code",
   "execution_count": 10,
   "id": "cb967710",
   "metadata": {},
   "outputs": [
    {
     "data": {
      "text/html": [
       "<div>\n",
       "<style scoped>\n",
       "    .dataframe tbody tr th:only-of-type {\n",
       "        vertical-align: middle;\n",
       "    }\n",
       "\n",
       "    .dataframe tbody tr th {\n",
       "        vertical-align: top;\n",
       "    }\n",
       "\n",
       "    .dataframe thead th {\n",
       "        text-align: right;\n",
       "    }\n",
       "</style>\n",
       "<table border=\"1\" class=\"dataframe\">\n",
       "  <thead>\n",
       "    <tr style=\"text-align: right;\">\n",
       "      <th></th>\n",
       "      <th>English</th>\n",
       "      <th>French</th>\n",
       "      <th>Frequency</th>\n",
       "    </tr>\n",
       "  </thead>\n",
       "  <tbody>\n",
       "    <tr>\n",
       "      <th>0</th>\n",
       "      <td>abide</td>\n",
       "      <td>respecter</td>\n",
       "      <td>42</td>\n",
       "    </tr>\n",
       "    <tr>\n",
       "      <th>1</th>\n",
       "      <td>about</td>\n",
       "      <td>sur</td>\n",
       "      <td>370</td>\n",
       "    </tr>\n",
       "    <tr>\n",
       "      <th>2</th>\n",
       "      <td>above</td>\n",
       "      <td>au dessus</td>\n",
       "      <td>124</td>\n",
       "    </tr>\n",
       "    <tr>\n",
       "      <th>3</th>\n",
       "      <td>abroad</td>\n",
       "      <td>à l'étranger</td>\n",
       "      <td>63</td>\n",
       "    </tr>\n",
       "    <tr>\n",
       "      <th>4</th>\n",
       "      <td>absence</td>\n",
       "      <td>absence</td>\n",
       "      <td>55</td>\n",
       "    </tr>\n",
       "    <tr>\n",
       "      <th>...</th>\n",
       "      <td>...</td>\n",
       "      <td>...</td>\n",
       "      <td>...</td>\n",
       "    </tr>\n",
       "    <tr>\n",
       "      <th>995</th>\n",
       "      <td>yonder</td>\n",
       "      <td>là-bas</td>\n",
       "      <td>59</td>\n",
       "    </tr>\n",
       "    <tr>\n",
       "      <th>996</th>\n",
       "      <td>young</td>\n",
       "      <td>Jeune</td>\n",
       "      <td>462</td>\n",
       "    </tr>\n",
       "    <tr>\n",
       "      <th>997</th>\n",
       "      <td>yours</td>\n",
       "      <td>le tiens</td>\n",
       "      <td>516</td>\n",
       "    </tr>\n",
       "    <tr>\n",
       "      <th>998</th>\n",
       "      <td>yourself</td>\n",
       "      <td>toi même</td>\n",
       "      <td>0</td>\n",
       "    </tr>\n",
       "    <tr>\n",
       "      <th>999</th>\n",
       "      <td>youth</td>\n",
       "      <td>jeunesse</td>\n",
       "      <td>310</td>\n",
       "    </tr>\n",
       "  </tbody>\n",
       "</table>\n",
       "<p>1000 rows × 3 columns</p>\n",
       "</div>"
      ],
      "text/plain": [
       "      English        French  Frequency\n",
       "0       abide     respecter         42\n",
       "1       about           sur        370\n",
       "2       above     au dessus        124\n",
       "3      abroad  à l'étranger         63\n",
       "4     absence       absence         55\n",
       "..        ...           ...        ...\n",
       "995    yonder        là-bas         59\n",
       "996     young         Jeune        462\n",
       "997     yours      le tiens        516\n",
       "998  yourself      toi même          0\n",
       "999     youth      jeunesse        310\n",
       "\n",
       "[1000 rows x 3 columns]"
      ]
     },
     "execution_count": 10,
     "metadata": {},
     "output_type": "execute_result"
    }
   ],
   "source": [
    "french=[dict_words[x] for x in words]\n",
    "frequency=frequency_dict.values()\n",
    "\n",
    "data={\"English\":words,\"French\":french,\"Frequency\":frequency}\n",
    "df=pd.DataFrame(data)\n",
    "df"
   ]
  },
  {
   "cell_type": "code",
   "execution_count": 11,
   "id": "f870e030",
   "metadata": {},
   "outputs": [],
   "source": [
    "#frequency_dict"
   ]
  },
  {
   "cell_type": "code",
   "execution_count": 12,
   "id": "dc837523",
   "metadata": {},
   "outputs": [],
   "source": [
    "#file"
   ]
  },
  {
   "cell_type": "markdown",
   "id": "e4fcc362",
   "metadata": {},
   "source": []
  },
  {
   "cell_type": "code",
   "execution_count": 14,
   "id": "a856bb2c",
   "metadata": {},
   "outputs": [],
   "source": [
    "f = open(\"output.txt\",\"w\",encoding='utf-8')\n",
    "f.write(file)\n",
    "f.close()"
   ]
  },
  {
   "cell_type": "code",
   "execution_count": 15,
   "id": "c40c98d9",
   "metadata": {},
   "outputs": [],
   "source": [
    "unique_list=[x for x in list(frequency_dict.keys()) if frequency_dict[x]>0]"
   ]
  },
  {
   "cell_type": "markdown",
   "id": "cca95991",
   "metadata": {},
   "source": []
  },
  {
   "cell_type": "code",
   "execution_count": 16,
   "id": "d447f623",
   "metadata": {},
   "outputs": [],
   "source": [
    "#unique_list"
   ]
  },
  {
   "cell_type": "code",
   "execution_count": 17,
   "id": "fbe8a471",
   "metadata": {},
   "outputs": [],
   "source": [
    "df.to_csv(\"frequency.csv\",index=False)"
   ]
  },
  {
   "cell_type": "code",
   "execution_count": null,
   "id": "09d5bb7a",
   "metadata": {},
   "outputs": [],
   "source": []
  },
  {
   "cell_type": "code",
   "execution_count": null,
   "id": "366d80f5",
   "metadata": {},
   "outputs": [],
   "source": []
  },
  {
   "cell_type": "code",
   "execution_count": null,
   "id": "d3c4ce3c",
   "metadata": {},
   "outputs": [],
   "source": []
  },
  {
   "cell_type": "code",
   "execution_count": null,
   "id": "32fc044f",
   "metadata": {},
   "outputs": [],
   "source": []
  }
 ],
 "metadata": {
  "kernelspec": {
   "display_name": "Python 3",
   "language": "python",
   "name": "python3"
  },
  "language_info": {
   "codemirror_mode": {
    "name": "ipython",
    "version": 3
   },
   "file_extension": ".py",
   "mimetype": "text/x-python",
   "name": "python",
   "nbconvert_exporter": "python",
   "pygments_lexer": "ipython3",
   "version": "3.8.8"
  }
 },
 "nbformat": 4,
 "nbformat_minor": 5
}
